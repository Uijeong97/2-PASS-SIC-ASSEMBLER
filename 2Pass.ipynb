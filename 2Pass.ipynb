{
 "cells": [
  {
   "cell_type": "code",
   "execution_count": 1,
   "metadata": {},
   "outputs": [],
   "source": [
    "from Pass1 import Pass1\n",
    "from Objpgm import Objpgm"
   ]
  },
  {
   "cell_type": "code",
   "execution_count": 21,
   "metadata": {},
   "outputs": [],
   "source": [
    "'''\n",
    "# PASS2\n",
    "- 명령어 어셈블(연산자 코드 번역, 주소 조사)->(optab이용)\n",
    "- BYTE, WORD 등 정의되는 데이터 값 생성->symtab이용\n",
    "- 어셈블러 지시자(byte resw) 처리\n",
    "- 한줄씩 읽으면서->어셈블러 리스트(LISFILE) 생성,목적 프로그램 생성\n",
    "'''\n",
    "\n",
    "class Pass2:\n",
    "    def __init__(self,Pass1):\n",
    "        self.Pass1=Pass1\n",
    "        self.intfile=self.Pass1.intfile\n",
    "        self.optab=self.Pass1.optab\n",
    "        self.symtab=self.Pass1.symtab\n",
    "        self.objpgm=Objpgm(self.Pass1.srcname)\n",
    "        self.lisfile=open(self.Pass1.srcname+\"_lisfile\",\"w\")\n",
    "        self.MODE=\"DIRECT_ADDRESSING\"\n",
    "        \n",
    "        self.pass2()\n",
    "        \n",
    "        \n",
    "    def pass2(self):\n",
    "        first=self.intfile.lines[0]\n",
    "        startAddr=first['LOCCTR']\n",
    "        label,opcode,operand=first['label'],first['opcode'],first['operand']\n",
    "        flag=first['flag']\n",
    "        objectcode=''\n",
    "        tempTR=[]\n",
    "        \n",
    "        self.objpgm.recordList.append({'LOCCTR':startAddr,'label':label,'opcode':opcode,'operand':operand})\n",
    "        if opcode=='start' or 'START':\n",
    "            self.lisfile.write(startAddr+'\\t'+objectcode+'\\t'+label+'\\t'+opcode+'\\t'+operand+'\\t'+flag+'\\n')\n",
    "            self.objpgm.writeHR(self.Pass1.progLength[2:])\n",
    "        \n",
    "        for line in self.intfile.lines[1:]:\n",
    "            if opcode.upper()==\"END\":\n",
    "                break\n",
    "            LOCCTR=line['LOCCTR']\n",
    "            label,opcode,operand=line['label'],line['opcode'].upper().replace(\"\\n\",\"\"),line['operand']\n",
    "            flag=line['flag']\n",
    "            self.objpgm.recordList.append({'LOCCTR':LOCCTR,'label':label,'opcode':opcode,'operand':operand})\n",
    "            \n",
    "            self.objpgm.tempSTRAddr.append(format(int(LOCCTR,16),'x'))\n",
    "            \n",
    "            if ',x' in operand:\n",
    "                self.MODE=\"INDEX_ADDRESSING\"\n",
    "                \n",
    "            if line['LOCCTR'][0]!='.':                                #not commentline?\n",
    "                if self.optab.findO(opcode):\n",
    "                    if self.symtab.findL(operand.replace(',x','')):                    #if there is a symbol in operand field then\n",
    "                        operAddr=self.symtab.sym[operand.replace(',x','')][0][2:]\n",
    "                        if self.MODE==\"INDEX_ADDRESSING\":#operandNum이 2개 필요한 경우, stch, ldch 같은 경우\n",
    "                            objectcode=hex(int(operAddr,16)+8).replace(\"0x\",\"\")+operAddr\n",
    "                            self.MODE=\"DIRECT_ADDRESSING\"\n",
    "                    elif opcode==\"RSUB\":\n",
    "                        operAddr='0000'\n",
    "                    else:\n",
    "                        #set error flag (undefined symbol)->리스트파일\n",
    "                        operAddr='0000'      #else store 0 as operand address\n",
    "                        self.lisfile.write('Error: undefined symbol+\\n')\n",
    "                    objectcode=self.optab.opt[opcode.upper()][0]+operAddr      #assemble the object code instruction(연산자 코드 번역 optab이용\n",
    "                    tempTR.append(objectcode)\n",
    "                elif opcode.upper() =='BYTE':   #convert constant to object code\n",
    "                    if operand[0].upper()==\"X\":\n",
    "                        tempTR.append(operand[2:len(operand)-1])\n",
    "                    elif operand[0].upper()==\"C\":\n",
    "                        strtmp=operand[2:len(operand)-1]\n",
    "                        objectcode=\"\"\n",
    "                        temp=[]\n",
    "                        tmpstr=''\n",
    "                        for i in strtmp:\n",
    "                            tmpstr+=format(ord(i),\"x\") #문자->아스키->16진수\n",
    "                            objectcode+=format(ord(i),\"x\") #문자->아스키->16진수\n",
    "                            if len(objectcode)%6==0:\n",
    "                                temp.append(tmpstr)\n",
    "                                tmpstr=''\n",
    "                        temp.append(tmpstr)\n",
    "                        tempTR.append(objectcode)\n",
    "                        if len(objectcode)>6:\n",
    "                            self.lisfile.write(LOCCTR+'\\t'+temp[0]+'\\t'+label+'\\t'+opcode+'\\t'+operand+'\\t'+flag+'\\n')\n",
    "                            for i in range(len(temp)-1):\n",
    "                                if temp[i+1]=='':\n",
    "                                    break\n",
    "                                self.lisfile.write('\\t'+'\\t'+temp[i+1]+'\\n')\n",
    "                            continue\n",
    "                        \n",
    "                elif opcode.upper() =='WORD':\n",
    "                    ###convert constant to object code->optab이용\n",
    "                    objectcode=format(int(operand),'X') #int to hex(4비트) to str\n",
    "                    objectcode='0'*(6-len(objectcode))+objectcode\n",
    "                    tempTR.append(objectcode)\n",
    "                else:#RESW,RESB\n",
    "                    objectcode=\"-\"\n",
    "                    tempTR.append(objectcode)\n",
    "                    \n",
    "                \n",
    "            #write listing line\n",
    "            self.lisfile.write(LOCCTR+'\\t'+objectcode+'\\t'+label+'\\t'+opcode+'\\t'+operand+'\\t'+flag+'\\n')\n",
    "            #read next input line\n",
    "        self.objpgm.writeTR(tempTR) #바보야 줄잘맞춰\n",
    "        self.objpgm.writeER(startAddr)\n",
    "        #write last Text record to object program\n",
    "        #write End record to object program\n",
    "        #write last listing line            "
   ]
  },
  {
   "cell_type": "code",
   "execution_count": 22,
   "metadata": {
    "scrolled": false
   },
   "outputs": [
    {
     "name": "stdout",
     "output_type": "stream",
     "text": [
      "src파일이름을 입력해주세요: test5\n"
     ]
    }
   ],
   "source": [
    "def main():\n",
    "    srcfile=input(\"src파일이름을 입력해주세요: \")\n",
    "    p2=Pass2(Pass1(srcfile))\n",
    "    \n",
    "main()"
   ]
  },
  {
   "cell_type": "code",
   "execution_count": null,
   "metadata": {},
   "outputs": [],
   "source": []
  },
  {
   "cell_type": "code",
   "execution_count": null,
   "metadata": {},
   "outputs": [],
   "source": []
  },
  {
   "cell_type": "code",
   "execution_count": null,
   "metadata": {},
   "outputs": [],
   "source": [
    "t"
   ]
  }
 ],
 "metadata": {
  "kernelspec": {
   "display_name": "Python 3",
   "language": "python",
   "name": "python3"
  },
  "language_info": {
   "codemirror_mode": {
    "name": "ipython",
    "version": 3
   },
   "file_extension": ".py",
   "mimetype": "text/x-python",
   "name": "python",
   "nbconvert_exporter": "python",
   "pygments_lexer": "ipython3",
   "version": "3.6.5"
  }
 },
 "nbformat": 4,
 "nbformat_minor": 2
}

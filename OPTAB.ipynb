{
 "cells": [
  {
   "cell_type": "code",
   "execution_count": null,
   "metadata": {},
   "outputs": [],
   "source": []
  },
  {
   "cell_type": "code",
   "execution_count": null,
   "metadata": {},
   "outputs": [],
   "source": [
    "class OPTAB(OpName, OpInfo):\n",
    "    def __init__(self):\n",
    "        self.optab={}\n",
    "        inf=open(\"opTable.txt\",\"r\")\n",
    "        while(infile>>opKey>>opCode>>formatBytes>>operandsNum):\n",
    "            opInfo=[]\n",
    "            opInfo.append(opCode).append(formatBytes).append(operandsNum)\n",
    "            self.optab[opKey]=opInfo\n",
    "        "
   ]
  }
 ],
 "metadata": {
  "kernelspec": {
   "display_name": "Python 3",
   "language": "python",
   "name": "python3"
  },
  "language_info": {
   "codemirror_mode": {
    "name": "ipython",
    "version": 3
   },
   "file_extension": ".py",
   "mimetype": "text/x-python",
   "name": "python",
   "nbconvert_exporter": "python",
   "pygments_lexer": "ipython3",
   "version": "3.6.5"
  }
 },
 "nbformat": 4,
 "nbformat_minor": 2
}

{
 "cells": [
  {
   "cell_type": "code",
   "execution_count": null,
   "metadata": {},
   "outputs": [],
   "source": [
    "class Objpgm:\n",
    "    def __init__(self,srcfile):\n",
    "        self.objpgm=open(srcfile+\"_Objpgm\",\"w\")\n",
    "        self.recordLIst=[]\n",
    "        \n",
    "    def writeHR(self):\n",
    "        self.objpgm.write(\"H\"+label+\"00\"+operand+\"00\"+progLen[2:]+\"\\n\")\n",
    "        \n",
    "    def writeTR(self):\n",
    "        self.LenTR+=\n",
    "        self.objpgm.write(\"T\"+\"00\"+sAddr+\"00\"+pLen[2:]+objectcode)\n",
    "        \n",
    "    def initializeTR(self):\n",
    "        self.objpgm.write(\"T\"+label+\"00\"+operand+\"00\"+progLength[2:]+\"\\n\")\n",
    "        \n",
    "    def writeER(self):\n",
    "        self.objpgm.write(\"E\"+\"00\"+sExAddress+\"\\n\")\n",
    "        \n",
    "   # def checkFit(self):\n",
    "        "
   ]
  }
 ],
 "metadata": {
  "kernelspec": {
   "display_name": "Python 3",
   "language": "python",
   "name": "python3"
  },
  "language_info": {
   "codemirror_mode": {
    "name": "ipython",
    "version": 3
   },
   "file_extension": ".py",
   "mimetype": "text/x-python",
   "name": "python",
   "nbconvert_exporter": "python",
   "pygments_lexer": "ipython3",
   "version": "3.6.5"
  }
 },
 "nbformat": 4,
 "nbformat_minor": 2
}

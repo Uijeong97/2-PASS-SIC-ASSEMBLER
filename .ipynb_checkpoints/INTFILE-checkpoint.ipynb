{
 "cells": [
  {
   "cell_type": "code",
   "execution_count": 2,
   "metadata": {},
   "outputs": [],
   "source": [
    "class INTFILE:\n",
    "    def __init__(self,srcfile):\n",
    "        self.f=open(srcfile+\"_intfile\",\"w\")\n",
    "    def w(self,LOCCTR,label,opcode,operand):\n",
    "        self.f.write(LOCCTR+'\\t'+label+'\\t'+opcode+'\\t'+operand+'\\n')\n",
    "    def setError(self, opcode):\n",
    "        self.f.write(opcode+' is not fount in optab')"
   ]
  },
  {
   "cell_type": "code",
   "execution_count": null,
   "metadata": {},
   "outputs": [],
   "source": []
  }
 ],
 "metadata": {
  "kernelspec": {
   "display_name": "Python 3",
   "language": "python",
   "name": "python3"
  },
  "language_info": {
   "codemirror_mode": {
    "name": "ipython",
    "version": 3
   },
   "file_extension": ".py",
   "mimetype": "text/x-python",
   "name": "python",
   "nbconvert_exporter": "python",
   "pygments_lexer": "ipython3",
   "version": "3.6.5"
  }
 },
 "nbformat": 4,
 "nbformat_minor": 2
}

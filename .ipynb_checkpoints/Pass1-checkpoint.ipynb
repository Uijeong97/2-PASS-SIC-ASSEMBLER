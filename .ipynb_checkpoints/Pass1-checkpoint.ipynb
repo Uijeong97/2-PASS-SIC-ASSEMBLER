{
 "cells": [
  {
   "cell_type": "code",
   "execution_count": 1,
   "metadata": {},
   "outputs": [],
   "source": [
    "'''import LOCCTR'''\n",
    "from OPTAB import OPTAB\n",
    "from SYMTAB import SYMTAB\n",
    "from INTFILE import INTFILE"
   ]
  },
  {
   "cell_type": "code",
   "execution_count": 4,
   "metadata": {},
   "outputs": [],
   "source": [
    "'''\n",
    "# PASS1\n",
    "- 모든 문에 LOCCTR 배정 -> INTFILE 생성\n",
    "- 모든 레이블에 배정된 LOCCTR 값 저장 -> SYMTAB 생성\n",
    "- 어셈블러 지시자(BYTE, RESW)의 데이터 길이 결정\n",
    "- 연상 명령어 조사하기 위해 OPTAB 불러온다.\n",
    "'''\n",
    "\n",
    "class Pass1:\n",
    "    def __init__(self, srcfile):\n",
    "        self.srcfile=open(srcfile,\"r\")\n",
    "        self.intfile=INTFILE(srcfile)\n",
    "        self.symtab=SYMTAB(srcfile)\n",
    "        self.optab=OPTAB()\n",
    "        self.pass1()\n",
    "    \n",
    "    def pass1(self):\n",
    "        first=self.srcfile.readline()\n",
    "        label,opcode,operand=first[:8].replace(\" \",\"\"),first[9:16].replace(\" \",\"\"),first[17:].replace(\" \",\"\")\n",
    "        if opcode=='start' or 'START':\n",
    "            startAddress=operand\n",
    "            self.LOCCTR=startAddress\n",
    "            self.intfile.w(hex(int(self.LOCCTR,16)),label,opcode,operand)\n",
    "        else:\n",
    "            self.LOCCTR=0\n",
    "        for line in self.srcfile.readlines():\n",
    "            if line[0]!='.':\n",
    "                label,opcode,operand=line[:8].replace(\" \",\"\"),line[9:16].replace(\" \",\"\"),line[17:].replace(\" \",\"\")\n",
    "                if label != \"\":\n",
    "                    found=self.symtab.findL(label)\n",
    "                    if found:\n",
    "                        self.symtab.setError(label)\n",
    "                    else:\n",
    "                        self.symtab.w(label,hex(int(self.LOCCTR,16)),'')\n",
    "                found=self.optab.findO(opcode)\n",
    "                if found:\n",
    "                    self.LOCCTR=str(hex(int(self.LOCCTR,16)+(3)))\n",
    "                elif opcode==\"word\" or opcode==\"WORD\":\n",
    "                    self.LOCCTR=str(hex(int(self.LOCCTR,16)+(3)))\n",
    "                elif opcode==\"resw\" or opcode==\"RESW\":\n",
    "                    self.LOCCTR=str(hex(int(self.LOCCTR,16)+(int(operand)*3)))\n",
    "                elif opcode==\"resb\" or opcode==\"RESB\":\n",
    "                    self.LOCCTR=str(hex(int(self.LOCCTR,16)+int(operand)))\n",
    "                elif opcode==\"byte\" or opcode==\"BYTE\":\n",
    "                    if opcode[0]==\"c\" or opcode[0]==\"C\":\n",
    "                        self.LOCCTR=str(hex(int(self.LOCCTR,16)+(len(operand)-3)))\n",
    "                    elif opcode[0]==\"x\" or opcode[0]==\"X\":\n",
    "                        self.LOCCTR=str(hex(int(self.LOCCTR,16)+(len(operand)-3)/2))\n",
    "                else:\n",
    "                    if opcode==\"end\" or opcode==\"END\":\n",
    "                        self.intfile.w(hex(int(self.LOCCTR,16)),label,opcode,operand)\n",
    "                        break\n",
    "                    self.intfile.setError(opcode)\n",
    "            self.intfile.w(hex(int(self.LOCCTR,16)),label,opcode,operand)\n",
    "        self.progLenth=int(self.LOCCTR,16)-int(startAddress)\n",
    "        self.srcfile.close()\n",
    "        self.intfile.close()\n",
    "        self.symtab.close()\n",
    "        \n",
    "                    "
   ]
  },
  {
   "cell_type": "code",
   "execution_count": 5,
   "metadata": {},
   "outputs": [],
   "source": [
    "ins = Pass1(\"test1\")"
   ]
  }
 ],
 "metadata": {
  "kernelspec": {
   "display_name": "Python 3",
   "language": "python",
   "name": "python3"
  },
  "language_info": {
   "codemirror_mode": {
    "name": "ipython",
    "version": 3
   },
   "file_extension": ".py",
   "mimetype": "text/x-python",
   "name": "python",
   "nbconvert_exporter": "python",
   "pygments_lexer": "ipython3",
   "version": "3.6.5"
  }
 },
 "nbformat": 4,
 "nbformat_minor": 2
}

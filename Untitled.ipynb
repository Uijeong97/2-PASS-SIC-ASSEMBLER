{
 "cells": [
  {
   "cell_type": "code",
   "execution_count": 1,
   "metadata": {},
   "outputs": [
    {
     "name": "stdout",
     "output_type": "stream",
     "text": [
      "['0C', 3, 1]\n"
     ]
    }
   ],
   "source": [
    "\n",
    "# coding: utf-8\n",
    "\n",
    "# In[ ]:\n",
    "'''\n",
    "# OPTAB\n",
    "- Ofinfo 리스트=[opcode, formatbytes, operandNum]\n",
    "- 해쉬테이블 형태로 obtab={'opkey':[ofinfo]}\n",
    "- p1:\n",
    "연상 명령어 조사하는 데 사용\n",
    "명령어의 길이만큼 LOCCTR 증가\n",
    "- p2:\n",
    "명령어->기계어 번역\n",
    "'''\n",
    "\n",
    "class OPTAB:\n",
    "    def __init__(self):\n",
    "        self.opt={}\n",
    "        inf=open(\"opTable.txt\",\"r\")\n",
    "        for line in inf.readlines():\n",
    "            opKey,opCode,formatBytes,operandsNum=line.split()\n",
    "            opInfo=[opCode,int(formatBytes),int(operandsNum)]\n",
    "            self.opt[opKey]=opInfo\n",
    "            \n",
    "    def findO(self,opcode):\n",
    "        return opcode.upper() in self.opt\n",
    "\n",
    "a=OPTAB()\n",
    "print(a.opt['STA'])\n",
    "\n"
   ]
  },
  {
   "cell_type": "code",
   "execution_count": null,
   "metadata": {},
   "outputs": [],
   "source": []
  }
 ],
 "metadata": {
  "kernelspec": {
   "display_name": "Python 3",
   "language": "python",
   "name": "python3"
  },
  "language_info": {
   "codemirror_mode": {
    "name": "ipython",
    "version": 3
   },
   "file_extension": ".py",
   "mimetype": "text/x-python",
   "name": "python",
   "nbconvert_exporter": "python",
   "pygments_lexer": "ipython3",
   "version": "3.6.5"
  }
 },
 "nbformat": 4,
 "nbformat_minor": 2
}
